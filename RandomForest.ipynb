{
 "cells": [
  {
   "cell_type": "code",
   "execution_count": 6,
   "metadata": {},
   "outputs": [],
   "source": [
    "import pandas as pd\n",
    "\n",
    "from sklearn.preprocessing import LabelEncoder,MultiLabelBinarizer\n",
    "from sklearn.feature_selection import SelectKBest, chi2"
   ]
  },
  {
   "cell_type": "markdown",
   "metadata": {},
   "source": [
    "# Data Processing In Main Notebook"
   ]
  },
  {
   "cell_type": "code",
   "execution_count": 11,
   "metadata": {},
   "outputs": [
    {
     "name": "stderr",
     "output_type": "stream",
     "text": [
      "C:\\Users\\Neil\\AppData\\Local\\Temp\\ipykernel_19140\\1497657896.py:15: FutureWarning: A value is trying to be set on a copy of a DataFrame or Series through chained assignment using an inplace method.\n",
      "The behavior will change in pandas 3.0. This inplace method will never work because the intermediate object on which we are setting values always behaves as a copy.\n",
      "\n",
      "For example, when doing 'df[col].method(value, inplace=True)', try using 'df.method({col: value}, inplace=True)' or df[col] = df[col].method(value) instead, to perform the operation inplace on the original object.\n",
      "\n",
      "\n",
      "  df['gill-attachment'].fillna('[?]', inplace=True)\n",
      "C:\\Users\\Neil\\AppData\\Local\\Temp\\ipykernel_19140\\1497657896.py:16: FutureWarning: A value is trying to be set on a copy of a DataFrame or Series through chained assignment using an inplace method.\n",
      "The behavior will change in pandas 3.0. This inplace method will never work because the intermediate object on which we are setting values always behaves as a copy.\n",
      "\n",
      "For example, when doing 'df[col].method(value, inplace=True)', try using 'df.method({col: value}, inplace=True)' or df[col] = df[col].method(value) instead, to perform the operation inplace on the original object.\n",
      "\n",
      "\n",
      "  df['ring-type'].fillna('[?]', inplace=True)\n",
      "C:\\Users\\Neil\\AppData\\Local\\Temp\\ipykernel_19140\\1497657896.py:17: FutureWarning: A value is trying to be set on a copy of a DataFrame or Series through chained assignment using an inplace method.\n",
      "The behavior will change in pandas 3.0. This inplace method will never work because the intermediate object on which we are setting values always behaves as a copy.\n",
      "\n",
      "For example, when doing 'df[col].method(value, inplace=True)', try using 'df.method({col: value}, inplace=True)' or df[col] = df[col].method(value) instead, to perform the operation inplace on the original object.\n",
      "\n",
      "\n",
      "  df['cap-surface'].fillna('[?]', inplace=True)\n",
      "C:\\Users\\Neil\\AppData\\Local\\Temp\\ipykernel_19140\\1497657896.py:18: FutureWarning: A value is trying to be set on a copy of a DataFrame or Series through chained assignment using an inplace method.\n",
      "The behavior will change in pandas 3.0. This inplace method will never work because the intermediate object on which we are setting values always behaves as a copy.\n",
      "\n",
      "For example, when doing 'df[col].method(value, inplace=True)', try using 'df.method({col: value}, inplace=True)' or df[col] = df[col].method(value) instead, to perform the operation inplace on the original object.\n",
      "\n",
      "\n",
      "  df['gill-spacing'].fillna('[?]', inplace=True)\n"
     ]
    },
    {
     "data": {
      "text/plain": [
       "0        d\n",
       "1        d\n",
       "2        d\n",
       "3        d\n",
       "4        d\n",
       "        ..\n",
       "61064    d\n",
       "61065    d\n",
       "61066    d\n",
       "61067    d\n",
       "61068    d\n",
       "Name: habitat, Length: 61069, dtype: object"
      ]
     },
     "execution_count": 11,
     "metadata": {},
     "output_type": "execute_result"
    }
   ],
   "source": [
    "df = pd.read_csv('secondary_data.csv',sep=';', on_bad_lines='skip')\n",
    "df = df.rename(columns={\"Cap-surface\": \"cap-surface\"})\n",
    "\n",
    "df = df.drop(columns=['spore-print-color',\n",
    "                     'has-ring'])\n",
    "\n",
    "#Binary Encoding\n",
    "binary_mapping = {'[t]': 1, '[f]': 0}\n",
    "df['does-bruise-or-bleed'] = df['does-bruise-or-bleed'].map(binary_mapping)\n",
    "binary_mapping = {'p': 1, 'e': 0}\n",
    "df['class'] = df['class'].map(binary_mapping)\n",
    "\n",
    "df = df.drop(columns=['stem-root', 'stem-surface', 'veil-type', 'veil-color'])\n",
    "\n",
    "df['gill-attachment'].fillna('[?]', inplace=True)\n",
    "df['ring-type'].fillna('[?]', inplace=True)\n",
    "df['cap-surface'].fillna('[?]', inplace=True)\n",
    "df['gill-spacing'].fillna('[?]', inplace=True)\n",
    "\n",
    "columns_to_apply_multilabeling = ['cap-shape','cap-surface','cap-color','gill-attachment', 'gill-spacing', 'gill-color','stem-color','ring-type','season']\n",
    "\n",
    "for col in columns_to_apply_multilabeling:\n",
    "    mlb = MultiLabelBinarizer()\n",
    "    column = df[col].apply(lambda x: x.strip('[]').split(', '))\n",
    "    \n",
    "    encoded_data = mlb.fit_transform(column)\n",
    "    encoded_df = pd.DataFrame(encoded_data, columns=mlb.classes_+\"_\"+col)\n",
    "    df = df.drop(col, axis=1)\n",
    "    df = pd.concat([df, encoded_df], axis=1)\n",
    "\n",
    "X = df.drop(columns = {'habitat','cap-diameter','stem-height','stem-width'})\n",
    "\n",
    "##drop all columns with NAN\n",
    "X = X.dropna(axis=1)\n",
    "\n",
    "y = df['habitat']\n",
    "\n",
    "selector = SelectKBest(score_func=chi2, k=10)  # Specify the desired number of features\n",
    "X_selected = selector.fit_transform(X, y)\n",
    "selected_feature_indices = selector.get_support(indices=True)\n",
    "selected_feature_names = X.columns[selected_feature_indices]\n",
    "X_selected_df = pd.DataFrame(X_selected, columns=selected_feature_names)\n",
    "\n",
    "#Encoding y\n",
    "mlb = MultiLabelBinarizer()\n",
    "y_transformed = mlb.fit_transform(y)\n",
    "\n",
    "y"
   ]
  },
  {
   "cell_type": "markdown",
   "metadata": {},
   "source": [
    "# Random Forest"
   ]
  },
  {
   "cell_type": "code",
   "execution_count": 13,
   "metadata": {},
   "outputs": [
    {
     "name": "stdout",
     "output_type": "stream",
     "text": [
      "Fitting 5 folds for each of 108 candidates, totalling 540 fits\n",
      "Best parameters found: {'max_depth': 30, 'min_samples_leaf': 1, 'min_samples_split': 5, 'n_estimators': 100}\n",
      "Best cross-validation score achieved: 0.8340804421246546\n",
      "Test set accuracy: 0.828393646635009\n"
     ]
    }
   ],
   "source": [
    "from sklearn.model_selection import GridSearchCV\n",
    "from sklearn.ensemble import RandomForestClassifier\n",
    "from sklearn.model_selection import train_test_split\n",
    "\n",
    "# Assuming your data is already loaded into X and y\n",
    "# Split the data into training and testing sets\n",
    "X_train, X_test, y_train, y_test = train_test_split(X, y, test_size=0.2, random_state=42)\n",
    "\n",
    "# Define the parameter grid to search\n",
    "param_grid = {\n",
    "    'n_estimators': [100, 200, 300], \n",
    "    'max_depth': [None, 10, 20, 30],  \n",
    "    'min_samples_split': [2, 5, 10],  \n",
    "    'min_samples_leaf': [1, 2, 4]     \n",
    "}\n",
    "\n",
    "rf = RandomForestClassifier(random_state=42)\n",
    "grid_search = GridSearchCV(estimator=rf, param_grid=param_grid, cv=5, n_jobs=-1, verbose=2, scoring='accuracy')\n",
    "grid_search.fit(X_train, y_train)\n",
    "\n",
    "# Print the best parameters and the best score\n",
    "print(f\"Best parameters found: {grid_search.best_params_}\")\n",
    "print(f\"Best cross-validation score achieved: {grid_search.best_score_}\")\n",
    "\n",
    "# Use the best estimator to make predictions on the test set\n",
    "best_estimator = grid_search.best_estimator_\n",
    "y_pred = best_estimator.predict(X_test)\n",
    "\n",
    "# Optionally, evaluate the model's performance on the test set\n",
    "from sklearn.metrics import accuracy_score\n",
    "print(f\"Test set accuracy: {accuracy_score(y_test, y_pred)}\")"
   ]
  }
 ],
 "metadata": {
  "kernelspec": {
   "display_name": "Python 3",
   "language": "python",
   "name": "python3"
  },
  "language_info": {
   "codemirror_mode": {
    "name": "ipython",
    "version": 3
   },
   "file_extension": ".py",
   "mimetype": "text/x-python",
   "name": "python",
   "nbconvert_exporter": "python",
   "pygments_lexer": "ipython3",
   "version": "3.12.2"
  }
 },
 "nbformat": 4,
 "nbformat_minor": 2
}
