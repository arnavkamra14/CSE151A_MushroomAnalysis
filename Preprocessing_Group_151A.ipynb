{
 "cells": [
  {
   "cell_type": "code",
   "execution_count": 322,
   "id": "437925d3",
   "metadata": {},
   "outputs": [],
   "source": [
    "import pandas as pd\n",
    "from sklearn.preprocessing import LabelEncoder,MultiLabelBinarizer\n",
    "label_encoder = LabelEncoder()"
   ]
  },
  {
   "cell_type": "code",
   "execution_count": 323,
   "id": "2dc2d36a",
   "metadata": {},
   "outputs": [],
   "source": [
    "df = pd.read_csv('/home/sxluong/151A/CSE151A_MushroomAnalysis/primary_data.csv',sep=';', on_bad_lines='skip')\n"
   ]
  },
  {
   "cell_type": "code",
   "execution_count": 324,
   "id": "23853903",
   "metadata": {},
   "outputs": [],
   "source": [
    "# Keep naming consistent\n",
    "df = df.rename(columns={\"Cap-surface\": \"cap-surface\"})"
   ]
  },
  {
   "cell_type": "code",
   "execution_count": 325,
   "id": "0f369d25",
   "metadata": {},
   "outputs": [],
   "source": [
    "# Because of multicolinearity and name has no correlation\n",
    "df = df.drop(columns=['Spore-print-color',\n",
    "                     'has-ring','name'])\n",
    "\n",
    "#Binary Encoding\n",
    "binary_mapping = {'[t]': 1, '[f]': 0}\n",
    "df['does-bruise-or-bleed'] = df['does-bruise-or-bleed'].map(binary_mapping)\n",
    "binary_mapping = {'p': 1, 'e': 0}\n",
    "df['class'] = df['class'].map(binary_mapping)\n",
    "                                 "
   ]
  },
  {
   "cell_type": "code",
   "execution_count": 326,
   "id": "6ee7fd59",
   "metadata": {},
   "outputs": [],
   "source": [
    "# Too many Nan values where imputation is not good to do\n",
    "df = df.drop(columns=['stem-root','veil-type','veil-color','stem-surface'])"
   ]
  },
  {
   "cell_type": "code",
   "execution_count": 327,
   "id": "06492077",
   "metadata": {},
   "outputs": [],
   "source": [
    "#Only small subset of families therefore used a label encoder\n",
    "df['family'] = label_encoder.fit_transform(df['family'])"
   ]
  },
  {
   "cell_type": "code",
   "execution_count": 328,
   "id": "e3366ff1",
   "metadata": {},
   "outputs": [],
   "source": [
    "df['gill-attachment'].fillna('[?]', inplace=True)\n",
    "df['ring-type'].fillna('[?]', inplace=True)\n",
    "df['cap-surface'].fillna('[?]', inplace=True)\n",
    "df['gill-spacing'].fillna('[?]', inplace=True)\n",
    "# As per the ? key used, we simply filled in the Nans as they are essentially unknown"
   ]
  },
  {
   "cell_type": "code",
   "execution_count": 329,
   "id": "f8ea29d5",
   "metadata": {},
   "outputs": [],
   "source": [
    "def convert_dimensions(l):\n",
    "    \n",
    "    if len(l) ==2 :\n",
    "        \n",
    "        return (float(l[0])+float(l[1]))/2.0\n",
    "    return float(l[0])\n",
    "\n",
    "df['cap-diameter'] = df['cap-diameter'].apply(lambda x: convert_dimensions(x.strip('[]').split(', ')))\n",
    "df['stem-height'] = df['stem-height'].apply(lambda x: convert_dimensions(x.strip('[]').split(', ')))\n",
    "df['stem-width'] = df['stem-width'].apply(lambda x: convert_dimensions(x.strip('[]').split(', ')))"
   ]
  },
  {
   "cell_type": "code",
   "execution_count": 330,
   "id": "c6ca8857",
   "metadata": {},
   "outputs": [],
   "source": [
    "columns_to_apply_multilabeling = ['cap-shape','cap-surface','cap-color','gill-attachment', 'gill-spacing', 'gill-color','stem-color','ring-type','season']\n",
    "\n",
    "for col in columns_to_apply_multilabeling:\n",
    "    mlb = MultiLabelBinarizer()\n",
    "    column = df[col].apply(lambda x: x.strip('[]').split(', '))\n",
    "    \n",
    "    encoded_data = mlb.fit_transform(column)\n",
    "    encoded_df = pd.DataFrame(encoded_data, columns=mlb.classes_+\"_\"+col)\n",
    "    df = df.drop(col, axis=1)\n",
    "    df = pd.concat([df, encoded_df], axis=1)\n"
   ]
  },
  {
   "cell_type": "code",
   "execution_count": null,
   "id": "aeea4cc1",
   "metadata": {},
   "outputs": [],
   "source": []
  }
 ],
 "metadata": {
  "kernelspec": {
   "display_name": "Python 3 (ipykernel)",
   "language": "python",
   "name": "python3"
  },
  "language_info": {
   "codemirror_mode": {
    "name": "ipython",
    "version": 3
   },
   "file_extension": ".py",
   "mimetype": "text/x-python",
   "name": "python",
   "nbconvert_exporter": "python",
   "pygments_lexer": "ipython3",
   "version": "3.9.5"
  }
 },
 "nbformat": 4,
 "nbformat_minor": 5
}
